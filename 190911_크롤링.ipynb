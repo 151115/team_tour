{
 "cells": [
  {
   "cell_type": "code",
   "execution_count": null,
   "metadata": {},
   "outputs": [],
   "source": [
    "from selenium import webdriver as wb\n",
    "import requests as req\n",
    "from bs4 import BeautifulSoup as bs\n",
    "import pandas as pd\n",
    "import time"
   ]
  },
  {
   "cell_type": "code",
   "execution_count": null,
   "metadata": {},
   "outputs": [],
   "source": [
    "driver = wb.Chrome()\n",
    "url = 'https://korean.visitkorea.or.kr/other/other_list.do?otdid=b55ffe10-84c3-11e8-8165-020027310001&moreTag=%EA%B4%80%EA%B4%91%EC%A7%80%7C%EC%88%99%EB%B0%95%7C%EC%9D%8C%EC%8B%9D&temp=#0^All^All^All^1^10^All^Null^All^b55ffe10-84c3-11e8-8165-020027310001^All^^#%EC%96%B4%EB%A5%B4%EC%8B%A0^All^All'\n",
    "driver.get(url)\n",
    "\n",
    "tour_data = []\n",
    "soup = bs(driver.page_source, 'html.parser')\n",
    "page = soup.select_one('div.total_check span').text\n",
    "page_num = int(page.replace(\",\",\"\"))//10 + 1\n",
    "click_num = 1\n",
    "for i in range(page_num):\n",
    "    soup = bs(driver.page_source,'html.parser')\n",
    "    time.sleep(3)\n",
    "    click_list = soup.select('div.area_txt')\n",
    "    for index in range(len(click_list)):        \n",
    "        data_list = []\n",
    "        driver.find_elements_by_css_selector('div.tit > a')[index].click()\n",
    "        time.sleep(3)\n",
    "        soup = bs(driver.page_source,'html.parser')\n",
    "        data_list.append(soup.select_one('div.tit_cont > h2').text)\n",
    "        data_list.append(soup.select_one('span.address').text)\n",
    "        picto_tag_list = soup.select('li.active span')\n",
    "        for picto in picto_tag_list:\n",
    "            data_list.append(picto.get(\"title\"))\n",
    "        tour_data.append(data_list)\n",
    "        driver.back()\n",
    "        time.sleep(3)\n",
    "        soup = bs(driver.page_source,'html.parser')\n",
    "    click_num+=1    \n",
    "    soup = bs(driver.page_source,'html.parser')\n",
    "    driver.find_element_by_css_selector('a.on + a').click()\n",
    "    time.sleep(3)\n",
    "    soup = bs(driver.page_source,'html.parser')\n",
    "df = pd.DataFrame(tour_data)\n",
    "df.to_csv(\"어르신.csv\")"
   ]
  }
 ],
 "metadata": {
  "kernelspec": {
   "display_name": "Python 3",
   "language": "python",
   "name": "python3"
  },
  "language_info": {
   "codemirror_mode": {
    "name": "ipython",
    "version": 3
   },
   "file_extension": ".py",
   "mimetype": "text/x-python",
   "name": "python",
   "nbconvert_exporter": "python",
   "pygments_lexer": "ipython3",
   "version": "3.7.3"
  }
 },
 "nbformat": 4,
 "nbformat_minor": 2
}
